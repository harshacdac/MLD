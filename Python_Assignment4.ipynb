{
 "cells": [
  {
   "cell_type": "markdown",
   "metadata": {},
   "source": [
    "1.1 Write a Python Program(with class concepts) to find the area of the triangle using the below formula. \n",
    " \n",
    "area = (s*(s-a)*(s-b)*(s-c)) ** 0.5 \n",
    " \n",
    "Function to take the length of the sides of triangle from user should be defined in the parent class and function to calculate the area should be defined in subclass."
   ]
  },
  {
   "cell_type": "code",
   "execution_count": null,
   "metadata": {},
   "outputs": [],
   "source": [
    "class Area_Length_Sides:\n",
    "    def __init__(self):\n",
    "        self.s=int(input())\n",
    "        self.a=int(input())\n",
    "        self.b=int(input())\n",
    "        self.c=int(input())\n",
    "    \n",
    "class Triangle_Area_Cal(Area_Length_Sides):\n",
    "        def __init__(self,*args):\n",
    "            super(Triangle_Area_Cal, self).__init__(*args)\n",
    "        def area(self):\n",
    "            return((self.s*(self.s-self.a)*(self.s-self.b)*(self.s-self.c))*0.5)\n",
    "        \n",
    "a=Triangle_Area_Cal()\n",
    "print(\"Area of Triangle is %f\" %(a.area()))"
   ]
  },
  {
   "cell_type": "raw",
   "metadata": {},
   "source": [
    "1.2 Write a function filter_long_words() that takes a list of words and an integer n and returns the list of words that are longer than n"
   ]
  },
  {
   "cell_type": "code",
   "execution_count": 20,
   "metadata": {},
   "outputs": [
    {
     "name": "stdout",
     "output_type": "stream",
     "text": [
      "List_Of_Words_Longer_Then_S are ['Chaithanya', 'Thanusha'] \n"
     ]
    }
   ],
   "source": [
    "List_Of_Words=[\"Harsha\", \"Theja\", \"Chaithanya\", \"Thanusha\", \"Madhav\"]\n",
    "List_Of_Words_Longer_Then_S=[]\n",
    "def filter_long_words(n,List_Of_Words):\n",
    "    for i in List_Of_Words:\n",
    "        if(n<len(i)):\n",
    "            List_Of_Words_Longer_Then_S.append(i)\n",
    "            \n",
    "\n",
    "flw=filter_long_words(6,List_Of_Words)\n",
    "print(\"List_Of_Words_Longer_Then_S are %s \" %List_Of_Words_Longer_Then_S)"
   ]
  },
  {
   "cell_type": "raw",
   "metadata": {},
   "source": [
    "2.1 Write a Python program using function concept that maps list of words into a list of integers representing the lengths of the corresponding words. \n",
    " \n",
    "Hint: If a list [ ab,cde,erty] is passed on to the python function output should come as [2,3,4] \n",
    " \n",
    "Here 2,3 and 4 are the lengths of the words in the list. "
   ]
  },
  {
   "cell_type": "code",
   "execution_count": 23,
   "metadata": {},
   "outputs": [
    {
     "name": "stdout",
     "output_type": "stream",
     "text": [
      "[6, 5, 10, 8, 6]\n"
     ]
    }
   ],
   "source": [
    "List_Of_Words=[\"Harsha\", \"Theja\", \"Chaithanya\", \"Thanusha\", \"Madhav\"]\n",
    "List_Of_Words_Length=[]\n",
    "def MAP_LOW_LOI():\n",
    "    for i in List_Of_Words:\n",
    "        List_Of_Words_Length.append(len(i))\n",
    "MAP_LOW_LOI()\n",
    "print(List_Of_Words_Length)"
   ]
  },
  {
   "cell_type": "raw",
   "metadata": {},
   "source": [
    "2.2 Write a Python function which takes a character (i.e. a string of length 1) and returns True if it is a vowel, False otherwise. "
   ]
  },
  {
   "cell_type": "code",
   "execution_count": 28,
   "metadata": {},
   "outputs": [
    {
     "name": "stdout",
     "output_type": "stream",
     "text": [
      "['a', 'e', 'i']\n"
     ]
    }
   ],
   "source": [
    "list_of_char=['a','b','c','d','e','f','g','h','i']\n",
    "vowels_list=('a','e','i','o','u')\n",
    "Vowel_From_List=[]\n",
    "for i in list_of_char:\n",
    "    for v in vowels:\n",
    "        if(i==v):\n",
    "            Vowel_From_List.append(i)\n",
    "print(Vowel_From_List)"
   ]
  },
  {
   "cell_type": "code",
   "execution_count": null,
   "metadata": {},
   "outputs": [],
   "source": []
  }
 ],
 "metadata": {
  "kernelspec": {
   "display_name": "Python 3",
   "language": "python",
   "name": "python3"
  },
  "language_info": {
   "codemirror_mode": {
    "name": "ipython",
    "version": 3
   },
   "file_extension": ".py",
   "mimetype": "text/x-python",
   "name": "python",
   "nbconvert_exporter": "python",
   "pygments_lexer": "ipython3",
   "version": "3.7.3"
  }
 },
 "nbformat": 4,
 "nbformat_minor": 2
}
