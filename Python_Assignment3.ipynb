{
 "cells": [
  {
   "cell_type": "raw",
   "metadata": {},
   "source": [
    "1.1 Write a Python Program to implement your own myreduce() function which works exactly like Python's built-in function reduce()"
   ]
  },
  {
   "cell_type": "code",
   "execution_count": null,
   "metadata": {},
   "outputs": [],
   "source": [
    "List=['H','A','R','S','H','A']\n",
    "def str_cat(X1,X2):\n",
    "    return X1+X2\n",
    "    \n",
    "def myreduce(reduce,List):\n",
    "    first=List[0]\n",
    "    for i in List[1:]:\n",
    "        first=reduce(first,i)\n",
    "    return first\n",
    "myreduce(str_cat,List)"
   ]
  },
  {
   "cell_type": "raw",
   "metadata": {},
   "source": [
    "\n",
    " 1.2 Write a Python program to implement your own myfilter() function which works exactly like Python's built-in function filter() "
   ]
  },
  {
   "cell_type": "code",
   "execution_count": null,
   "metadata": {},
   "outputs": [],
   "source": [
    "scores=[65,74,87,37,56,35]\n",
    "def func(s):\n",
    "    return s > 75\n",
    "\n",
    "def myfilter(func,score):\n",
    "    for i in scores:\n",
    "        k=func(i)\n",
    "        if(k==True):\n",
    "            return i\n",
    "    \n",
    "k1=list(myfilter(func,scores))\n",
    "print(k1)"
   ]
  },
  {
   "cell_type": "code",
   "execution_count": null,
   "metadata": {},
   "outputs": [],
   "source": [
    "scores = [65, 37, 78, 69, 76, 40, 88, 74, 81, 50]\n",
    "score_g75=[]\n",
    "def distinction(score):\n",
    "    return score > 75\n",
    "\n",
    "def myfilter(func,s):\n",
    "    for i in range(len(s)):\n",
    "        k=func(s[i]) \n",
    "        if(k==True):\n",
    "            score_g75.append(s[i])\n",
    "    return score_g75\n",
    "    \n",
    "score_g75=myfilter(distinction,scores)\n",
    "print(score_g75)\n"
   ]
  },
  {
   "cell_type": "markdown",
   "metadata": {},
   "source": [
    "2. Implement List comprehensions to produce the following lists. \n",
    "   Write List comprehensions to produce the following Lists \n"
   ]
  },
  {
   "cell_type": "raw",
   "metadata": {},
   "source": [
    "Pattern: ['x', 'xx', 'xxx', 'xxxx', 'y', 'yy', 'yyy', 'yyyy', 'z', 'zz', 'zzz', 'zzzz'] "
   ]
  },
  {
   "cell_type": "code",
   "execution_count": null,
   "metadata": {},
   "outputs": [],
   "source": [
    "input=['x','y','z']\n",
    "output=[(input[i]*j) for i in range(len(input)) for j in range(1,5)]   # list of list\n",
    "print(output)"
   ]
  },
  {
   "cell_type": "raw",
   "metadata": {},
   "source": [
    "Pattern: ['x', 'y', 'z', 'xx', 'yy', 'zz', 'xxx', 'yyy', 'zzz', 'xxxx', 'yyyy', 'zzzz'] "
   ]
  },
  {
   "cell_type": "code",
   "execution_count": null,
   "metadata": {},
   "outputs": [],
   "source": [
    "input=['x','y','z']\n",
    "output=[(input[i]*j) for j in range(1,5) for i in range(len(input)) ]   # list of list\n",
    "print(output)"
   ]
  },
  {
   "cell_type": "raw",
   "metadata": {},
   "source": [
    "Pattern: [[2], [3], [4], [3], [4], [5], [4], [5], [6]] [[2, 3, 4, 5], [3, 4, 5, 6], [4, 5, 6, 7], [5, 6, 7, 8]] "
   ]
  },
  {
   "cell_type": "code",
   "execution_count": null,
   "metadata": {},
   "outputs": [],
   "source": [
    "out_1=[[i+j] for i in range(1,4) for j in range(1,4)]\n",
    "\n",
    "out_2=[[i+j for i in range(1,5)] for j in range(1,5)]\n",
    "\n",
    "print(out_1,out_2)"
   ]
  },
  {
   "cell_type": "raw",
   "metadata": {},
   "source": [
    "Pattern: [(1, 1), (2, 1), (3, 1), (1, 2), (2, 2), (3, 2), (1, 3), (2, 3), (3, 3)] "
   ]
  },
  {
   "cell_type": "code",
   "execution_count": null,
   "metadata": {},
   "outputs": [],
   "source": [
    "matrix = [(m,n) for m in range(1,4) for n in range(1,4)]\n",
    "print(matrix)"
   ]
  },
  {
   "cell_type": "code",
   "execution_count": null,
   "metadata": {},
   "outputs": [],
   "source": []
  }
 ],
 "metadata": {
  "kernelspec": {
   "display_name": "Python 3",
   "language": "python",
   "name": "python3"
  },
  "language_info": {
   "codemirror_mode": {
    "name": "ipython",
    "version": 3
   },
   "file_extension": ".py",
   "mimetype": "text/x-python",
   "name": "python",
   "nbconvert_exporter": "python",
   "pygments_lexer": "ipython3",
   "version": "3.7.3"
  }
 },
 "nbformat": 4,
 "nbformat_minor": 2
}
