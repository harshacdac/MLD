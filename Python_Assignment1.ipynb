{
 "cells": [
  {
   "cell_type": "markdown",
   "metadata": {},
   "source": [
    "1. Write a program which will find all such numbers which are divisible by 7 but are not a multiple of 5, between 2000 and 3200 (both included). The numbers obtained should be printed in a comma-separated sequence on a single line"
   ]
  },
  {
   "cell_type": "code",
   "execution_count": null,
   "metadata": {},
   "outputs": [],
   "source": [
    "k=\"\"\n",
    "for i in range(2000,3200,1):\n",
    "    if((i%7)==0 and not(((i%5)==5) or ((i%5)==0))):\n",
    "        k=k+str(i)+\",\"\n",
    "else:\n",
    "    print(\"Numbers which are divisible by 7 but are not a multiple of 5 are:\",k[:-1])"
   ]
  },
  {
   "cell_type": "markdown",
   "metadata": {},
   "source": [
    "2. Write a Python program to accept the user's first and last name and then getting them printed in the the reverse order with a space between first name and last name."
   ]
  },
  {
   "cell_type": "code",
   "execution_count": null,
   "metadata": {},
   "outputs": [],
   "source": [
    "First_Name=input(\"Enter First Name:\")\n",
    "Last_Name=input(\"Enter Last Name:\")\n",
    "Reverse_Order=Last_Name+\" \"+First_Name\n",
    "print(\"Name_Reverse_Order:\", Reverse_Order)"
   ]
  },
  {
   "cell_type": "markdown",
   "metadata": {},
   "source": [
    "3. Write a Python program to find the volume of a sphere with diameter 12 cm. \n",
    "Formula: V=4/3 * π * r 3 "
   ]
  },
  {
   "cell_type": "code",
   "execution_count": null,
   "metadata": {},
   "outputs": [],
   "source": [
    "#Formula: V=4/3 * π * r 3 \n",
    "pi=(22/7)\n",
    "r=12\n",
    "Vol_Sph=(4/3)*pi*r**3\n",
    "print(\"Volume of Sphere is:\",Vol_Sph)"
   ]
  },
  {
   "cell_type": "code",
   "execution_count": null,
   "metadata": {},
   "outputs": [],
   "source": []
  }
 ],
 "metadata": {
  "kernelspec": {
   "display_name": "Python 3",
   "language": "python",
   "name": "python3"
  },
  "language_info": {
   "codemirror_mode": {
    "name": "ipython",
    "version": 3
   },
   "file_extension": ".py",
   "mimetype": "text/x-python",
   "name": "python",
   "nbconvert_exporter": "python",
   "pygments_lexer": "ipython3",
   "version": "3.7.3"
  }
 },
 "nbformat": 4,
 "nbformat_minor": 2
}
