{
 "cells": [
  {
   "cell_type": "markdown",
   "metadata": {},
   "source": [
    "# Task 1:"
   ]
  },
  {
   "cell_type": "markdown",
   "metadata": {},
   "source": [
    "1. My First Program"
   ]
  },
  {
   "cell_type": "code",
   "execution_count": null,
   "metadata": {},
   "outputs": [],
   "source": [
    "print(\"Thanks to iNeuron for providing affordable ML Course\")"
   ]
  },
  {
   "cell_type": "markdown",
   "metadata": {},
   "source": [
    "2. Write a program which will find all such numbers which are divisible by 7 but are not a multiple of 5, between 2000 and 3200 (both included). The numbers obtained should be printed in a comma-separated sequence on a single line"
   ]
  },
  {
   "cell_type": "code",
   "execution_count": null,
   "metadata": {},
   "outputs": [],
   "source": [
    "k=\"\"\n",
    "for i in range(2000,3200,1):\n",
    "    if((i%7)==0 and not(((i%5)==5) or ((i%5)==0))):\n",
    "        k=k+str(i)+\",\"\n",
    "else:\n",
    "    print(\"Numbers which are divisible by 7 but are not a multiple of 5 are:\",k[:-1])"
   ]
  },
  {
   "cell_type": "markdown",
   "metadata": {},
   "source": [
    "3. Write a Python program to accept the user's first and last name and then getting them printed in the the reverse order with a space between first name and last name. "
   ]
  },
  {
   "cell_type": "code",
   "execution_count": null,
   "metadata": {},
   "outputs": [],
   "source": [
    "First_Name=input(\"Enter First Name:\")\n",
    "Last_Name=input(\"Enter Last Name:\")\n",
    "Reverse_Order=Last_Name+\" \"+First_Name\n",
    "print(\"Name_Reverse_Order:\", Reverse_Order)"
   ]
  },
  {
   "cell_type": "markdown",
   "metadata": {},
   "source": [
    "4.Write a Python program to find the volume of a sphere with diameter 12 cm.  \n",
    " \n",
    "Formula: V=4/3 * π * r 3 "
   ]
  },
  {
   "cell_type": "code",
   "execution_count": null,
   "metadata": {},
   "outputs": [],
   "source": [
    "#Formula: V=4/3 * π * r 3 \n",
    "pi=(22/7)\n",
    "r=12\n",
    "Vol_Sph=(4/3)*pi*r**3\n",
    "print(\"Volume of Sphere is:\",Vol_Sph)"
   ]
  },
  {
   "cell_type": "markdown",
   "metadata": {},
   "source": [
    "# Task 2:"
   ]
  },
  {
   "cell_type": "markdown",
   "metadata": {},
   "source": [
    "1. Write a program which accepts a sequence of comma-separated numbers from console and generate a list. "
   ]
  },
  {
   "cell_type": "code",
   "execution_count": null,
   "metadata": {},
   "outputs": [],
   "source": [
    "Seq_Num=list(map(int, input(\"Enter Comma Seperated Number:\").split(\",\")))\n",
    "print(Seq_Num)"
   ]
  },
  {
   "cell_type": "markdown",
   "metadata": {},
   "source": [
    "2. Create the below pattern using nested for loop in Python. "
   ]
  },
  {
   "cell_type": "code",
   "execution_count": null,
   "metadata": {},
   "outputs": [],
   "source": [
    "n=5\n",
    "for i in range(0, n-1):\n",
    "    for j in range(0, i + 1):\n",
    "        print(\"* \", end=\"\")\n",
    "    print(\"\\r\")\n",
    "      \n",
    "for i in range(n, 0 , -1):\n",
    "    for j in range(0, i):\n",
    "        print(\"* \", end=\"\")\n",
    "    print(\"\\r\")\n",
    " \n"
   ]
  },
  {
   "cell_type": "markdown",
   "metadata": {},
   "source": [
    "3. Write a Python program to reverse a word after accepting the input from the user. "
   ]
  },
  {
   "cell_type": "code",
   "execution_count": null,
   "metadata": {},
   "outputs": [],
   "source": [
    "Accept_Word=input(\"Accept_Word:\")\n",
    "Reverse_Word=Accept_Word[::-1]\n",
    "print(Reverse_Word)"
   ]
  },
  {
   "cell_type": "markdown",
   "metadata": {},
   "source": [
    "4. Write a Python Program to print the given string in the format specified in the ​sample output. \n",
    " WE, THE PEOPLE OF INDIA, having solemnly resolved to constitute India into a SOVEREIGN, SOCIALIST, SECULAR, DEMOCRATIC REPUBLIC and to secure to all its citizens \n",
    " \n",
    " Sample Output: \n",
    " \n",
    "WE, THE PEOPLE OF INDIA,   \n",
    "        having solemnly resolved to constitute India into a SOVEREIGN, !  \n",
    "            SOCIALIST, SECULAR, DEMOCRATIC REPUBLIC    \n",
    "            and to secure to all its citizens "
   ]
  },
  {
   "cell_type": "code",
   "execution_count": null,
   "metadata": {},
   "outputs": [],
   "source": [
    "line=line1=\"\"\n",
    "st_format=\"WE, THE PEOPLE OF INDIA, having solemnly resolved to constitute India into a SOVEREIGN, SOCIALIST, SECULAR, DEMOCRATIC REPUBLIC and to secure to all its citizens \"\n",
    "for word in st_format.split(\",\"):\n",
    "    #print(word)\n",
    "    if ((word[0].isupper() or word[1].isupper())):\n",
    "        if \"and\" in word:\n",
    "            for subword in word.split():\n",
    "                if(subword[0].isupper()):\n",
    "                    #pass\n",
    "                    line=line+\" \"+subword+\" \"\n",
    "                elif(subword[0].islower()):\n",
    "                    #pass\n",
    "                    line1=line1+subword+\" \"\n",
    "                   # print(line1)\n",
    "            line=line+\"\\n\\t\\t \"+line1\n",
    "        else:\n",
    "            line=line+word+\",\"\n",
    "    elif(word[0].islower() or word[1].islower()):\n",
    "            line= line+\"\\n\\t\"+word+\",\"+\"!\"+'\\n\\t\\t'\n",
    "print(line)\n",
    "    #elif word[0].islower():\n",
    "     #   print(word)"
   ]
  }
 ],
 "metadata": {
  "kernelspec": {
   "display_name": "Python 3",
   "language": "python",
   "name": "python3"
  },
  "language_info": {
   "codemirror_mode": {
    "name": "ipython",
    "version": 3
   },
   "file_extension": ".py",
   "mimetype": "text/x-python",
   "name": "python",
   "nbconvert_exporter": "python",
   "pygments_lexer": "ipython3",
   "version": "3.7.3"
  }
 },
 "nbformat": 4,
 "nbformat_minor": 2
}
